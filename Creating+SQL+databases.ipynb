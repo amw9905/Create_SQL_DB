{
 "cells": [
  {
   "cell_type": "code",
   "execution_count": null,
   "metadata": {
    "collapsed": true
   },
   "outputs": [],
   "source": [
    "#https://github.com/r-dbi/DBI\n",
    "library(DBI) "
   ]
  },
  {
   "cell_type": "code",
   "execution_count": null,
   "metadata": {
    "collapsed": true
   },
   "outputs": [],
   "source": [
    "#Create New DB\n",
    "con <- dbConnect(RSQLite::SQLite(), dbname = \"New_DataBase.db\")\n",
    "dbListTables(con)\n",
    "dbWriteTable(con, \"DF\", DF)\n",
    "dbListTables(con)\n",
    "dbDisconnect(con)"
   ]
  },
  {
   "cell_type": "code",
   "execution_count": null,
   "metadata": {
    "collapsed": true
   },
   "outputs": [],
   "source": [
    "#Create DB in memory\n",
    "con <- dbConnect(RSQLite::SQLite(), dbname = \":memory:\")\n",
    "dbListTables(con)\n",
    "dbWriteTable(con, \"DF\", DF)\n",
    "dbListTables(con)\n",
    "dbDisconnect(con)"
   ]
  }
 ],
 "metadata": {
  "kernelspec": {
   "display_name": "R",
   "language": "R",
   "name": "ir"
  },
  "language_info": {
   "codemirror_mode": "r",
   "file_extension": ".r",
   "mimetype": "text/x-r-source",
   "name": "R",
   "pygments_lexer": "r",
   "version": "3.4.2"
  }
 },
 "nbformat": 4,
 "nbformat_minor": 2
}
